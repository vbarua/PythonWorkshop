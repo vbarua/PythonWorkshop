{
 "cells": [
  {
   "cell_type": "markdown",
   "metadata": {},
   "source": [
    "# Looping and Conditionals\n",
    "## Looping\n",
    "In Python the **for** keyword can be used to iterate over lists."
   ]
  },
  {
   "cell_type": "code",
   "execution_count": 1,
   "metadata": {
    "collapsed": true
   },
   "outputs": [],
   "source": [
    "greek = [\"Alpha\", \"Beta\", \"Gamma\", \"Delta\"]"
   ]
  },
  {
   "cell_type": "code",
   "execution_count": 2,
   "metadata": {
    "collapsed": false
   },
   "outputs": [
    {
     "name": "stdout",
     "output_type": "stream",
     "text": [
      "Alpha\n",
      "Beta\n",
      "Gamma\n",
      "Delta\n"
     ]
    }
   ],
   "source": [
    "for element in greek:\n",
    "    print(element)"
   ]
  },
  {
   "cell_type": "markdown",
   "metadata": {},
   "source": [
    "Sometimes you need the index of an element and the element itself while you iterate through a list. This can be achived with the **enumerate** function."
   ]
  },
  {
   "cell_type": "code",
   "execution_count": 3,
   "metadata": {
    "collapsed": false
   },
   "outputs": [
    {
     "name": "stdout",
     "output_type": "stream",
     "text": [
      "Alpha is at index: 0\n",
      "Beta is at index: 1\n",
      "Gamma is at index: 2\n",
      "Delta is at index: 3\n"
     ]
    }
   ],
   "source": [
    "for i, e in enumerate(greek):\n",
    "    print(e + \" is at index: \" + str(i))"
   ]
  },
  {
   "cell_type": "markdown",
   "metadata": {},
   "source": [
    "The above is taking advantage of *tuple decomposition*, because enumerate generates a list of tuples. Let's look at this more explicitly."
   ]
  },
  {
   "cell_type": "code",
   "execution_count": 4,
   "metadata": {
    "collapsed": false
   },
   "outputs": [
    {
     "name": "stdout",
     "output_type": "stream",
     "text": [
      "6\n",
      "15\n",
      "24\n"
     ]
    }
   ],
   "source": [
    "list_of_tuples = [(1,2,3),(4,5,6), (7,8,9)]\n",
    "for (a, b, c) in list_of_tuples:\n",
    "    print(a + b + c)"
   ]
  },
  {
   "cell_type": "markdown",
   "metadata": {},
   "source": [
    "If you have two or more lists you want to iterate over together you can use the **zip** function."
   ]
  },
  {
   "cell_type": "code",
   "execution_count": 5,
   "metadata": {
    "collapsed": false
   },
   "outputs": [
    {
     "name": "stdout",
     "output_type": "stream",
     "text": [
      "Double Greek: AlphaAlpha\n",
      "Double Greek: BetaBeta\n",
      "Double Greek: GammaGamma\n",
      "Double Greek: DeltaDelta\n"
     ]
    }
   ],
   "source": [
    "for e1, e2 in zip(greek, greek):\n",
    "    print(\"Double Greek: \" + e1 + e2)"
   ]
  },
  {
   "cell_type": "markdown",
   "metadata": {},
   "source": [
    "You can also iterate over tuples"
   ]
  },
  {
   "cell_type": "code",
   "execution_count": 6,
   "metadata": {
    "collapsed": false
   },
   "outputs": [
    {
     "name": "stdout",
     "output_type": "stream",
     "text": [
      "1\n",
      "2\n",
      "3\n"
     ]
    }
   ],
   "source": [
    "for i in (1,2,3):\n",
    "    print i"
   ]
  },
  {
   "cell_type": "markdown",
   "metadata": {},
   "source": [
    "and dictionaries in various ways"
   ]
  },
  {
   "cell_type": "code",
   "execution_count": 7,
   "metadata": {
    "collapsed": true
   },
   "outputs": [],
   "source": [
    "elements = {\n",
    "    \"H\": \"Hydrogen\",\n",
    "    \"He\": \"Helium\",\n",
    "    \"Li\": \"Lithium\",\n",
    "}"
   ]
  },
  {
   "cell_type": "code",
   "execution_count": 8,
   "metadata": {
    "collapsed": false
   },
   "outputs": [
    {
     "name": "stdout",
     "output_type": "stream",
     "text": [
      "H\n",
      "Li\n",
      "He\n"
     ]
    }
   ],
   "source": [
    "for key in elements: # Over the keys\n",
    "    print(key)"
   ]
  },
  {
   "cell_type": "code",
   "execution_count": 9,
   "metadata": {
    "collapsed": false
   },
   "outputs": [
    {
     "name": "stdout",
     "output_type": "stream",
     "text": [
      "H: Hydrogen\n",
      "Li: Lithium\n",
      "He: Helium\n"
     ]
    }
   ],
   "source": [
    "for key, val in elements.items(): # Over the keys and values \n",
    "    print(key + \": \" + val)"
   ]
  },
  {
   "cell_type": "code",
   "execution_count": 10,
   "metadata": {
    "collapsed": false
   },
   "outputs": [
    {
     "name": "stdout",
     "output_type": "stream",
     "text": [
      "Hydrogen\n",
      "Lithium\n",
      "Helium\n"
     ]
    }
   ],
   "source": [
    "for val in elements.values():\n",
    "    print(val)"
   ]
  },
  {
   "cell_type": "markdown",
   "metadata": {},
   "source": [
    "## Conditionals\n",
    "Conditionals are a way of having certain actions occur only on specific conditions."
   ]
  },
  {
   "cell_type": "code",
   "execution_count": 11,
   "metadata": {
    "collapsed": false
   },
   "outputs": [
    {
     "name": "stdout",
     "output_type": "stream",
     "text": [
      "5 is odd!!!\n"
     ]
    }
   ],
   "source": [
    "x = 5\n",
    "\n",
    "if x % 2 == 0: # Checks if x is even\n",
    "    print(str(x) + \" is even!!!\")\n",
    "    \n",
    "if x % 2 == 1: # Checks if x is odd\n",
    "    print(str(x) + \" is odd!!!\")"
   ]
  },
  {
   "cell_type": "markdown",
   "metadata": {},
   "source": [
    "In the above example the second condition is somewhat redundant because if ```x``` is not even it is odd. There's a better way of expressing this."
   ]
  },
  {
   "cell_type": "code",
   "execution_count": 12,
   "metadata": {
    "collapsed": false
   },
   "outputs": [
    {
     "name": "stdout",
     "output_type": "stream",
     "text": [
      "5\n"
     ]
    }
   ],
   "source": [
    "if x % 2 == 0: # Checks if x is even\n",
    "    print(str(x) + \" is even!!!\")\n",
    "else: # x is odd\n",
    "        print(5)"
   ]
  },
  {
   "cell_type": "markdown",
   "metadata": {},
   "source": [
    "You can have more than two conditions."
   ]
  },
  {
   "cell_type": "code",
   "execution_count": 13,
   "metadata": {
    "collapsed": false
   },
   "outputs": [
    {
     "name": "stdout",
     "output_type": "stream",
     "text": [
      "x divisible by 1\n"
     ]
    }
   ],
   "source": [
    "if x % 4 == 0:\n",
    "    print(\"x divisible by 4\")\n",
    "elif x % 3 == 0 and x % 5:\n",
    "    print(\"x divisible by 3 and 5\")\n",
    "elif x % 1 == 0:\n",
    "    print(\"x divisible by 1\")\n",
    "else:\n",
    "    print(\"I give up\")"
   ]
  },
  {
   "cell_type": "markdown",
   "metadata": {},
   "source": [
    "Note how only the first conditional branch that matches gets executed. The **else** conditions is a catch all condition that would have executed if none of the other branches had been chosen."
   ]
  },
  {
   "cell_type": "markdown",
   "metadata": {},
   "source": [
    "### Bonus: Loop Comprehensions\n",
    "You can use the **for** keyword to generate new lists with data using [list comprehensions](https://docs.python.org/2/tutorial/datastructures.html#list-comprehensions)."
   ]
  },
  {
   "cell_type": "code",
   "execution_count": 14,
   "metadata": {
    "collapsed": false
   },
   "outputs": [
    {
     "name": "stdout",
     "output_type": "stream",
     "text": [
      "[0, 1, 4, 9, 16, 25, 36, 49, 64, 81]\n",
      "[0, 1, 4, 9, 16, 25, 36, 49, 64, 81]\n"
     ]
    }
   ],
   "source": [
    "r1 = []\n",
    "for i in range(10):\n",
    "    r1.append(i**2)\n",
    "\n",
    "# Equivalent to the loop above.\n",
    "r2 = [i**2 for i in range(10)]\n",
    "\n",
    "print(r1)\n",
    "print(r2)"
   ]
  },
  {
   "cell_type": "code",
   "execution_count": 15,
   "metadata": {
    "collapsed": false
   },
   "outputs": [
    {
     "name": "stdout",
     "output_type": "stream",
     "text": [
      "[5, 5, 7, 8]\n",
      "[5, 5, 7, 8]\n"
     ]
    }
   ],
   "source": [
    "r1 = []\n",
    "for (index, g) in enumerate(greek):\n",
    "    r1.append(len(g) + index)\n",
    "\n",
    "# Equivalent to the loop above.\n",
    "r2 = [len(g) + index for (index, g) in enumerate(greek)]\n",
    "\n",
    "print(r1)\n",
    "print(r2)"
   ]
  },
  {
   "cell_type": "code",
   "execution_count": 16,
   "metadata": {
    "collapsed": false
   },
   "outputs": [
    {
     "name": "stdout",
     "output_type": "stream",
     "text": [
      "[0, 6, 12, 18, 24]\n",
      "[0, 6, 12, 18, 24]\n"
     ]
    }
   ],
   "source": [
    "r1 = []\n",
    "for i in range(30):\n",
    "    if (i%2 == 0 and i%3 == 0):\n",
    "        r1.append(i)\n",
    "\n",
    "# Equivalent to the loop above.\n",
    "r2 = [i for i in range(30) if i%2==0 and i%3==0]\n",
    "\n",
    "print(r1)\n",
    "print(r2)"
   ]
  }
 ],
 "metadata": {
  "kernelspec": {
   "display_name": "Python 2",
   "language": "python",
   "name": "python2"
  },
  "language_info": {
   "codemirror_mode": {
    "name": "ipython",
    "version": 2
   },
   "file_extension": ".py",
   "mimetype": "text/x-python",
   "name": "python",
   "nbconvert_exporter": "python",
   "pygments_lexer": "ipython2",
   "version": "2.7.3"
  }
 },
 "nbformat": 4,
 "nbformat_minor": 0
}
