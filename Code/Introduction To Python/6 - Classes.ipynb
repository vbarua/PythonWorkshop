{
 "cells": [
  {
   "cell_type": "markdown",
   "metadata": {},
   "source": [
    "# Classes\n",
    "Python [classes](https://docs.python.org/2/tutorial/classes.html) are a way of encapsulating chunks of functionality that belong together. You might not be aware of it but we've been using classes for a while. Python lists, dictionaries and many other data structures are implemented as classes.\n",
    "\n",
    "Let's define a class that generates bad bird calls to explore how classes work. Note that functions associated with a class are known as methods."
   ]
  },
  {
   "cell_type": "code",
   "execution_count": 1,
   "metadata": {
    "collapsed": true
   },
   "outputs": [],
   "source": [
    "class BirdCallGenerator:\n",
    "        \n",
    "    def __init__(self, bird_name, time_of_day = \"noon\"):\n",
    "        self.bird_name = bird_name\n",
    "        self.time_of_day = time_of_day   \n",
    "\n",
    "    def custom(self, sound):\n",
    "        return \"The \" + self.bird_name + \" went \" + sound + \" at \" + self.time_of_day\n",
    "    \n",
    "    def tweet(self):\n",
    "        return self.custom(\"tweet\")"
   ]
  },
  {
   "cell_type": "markdown",
   "metadata": {},
   "source": [
    "There's a lot going on here but let's work through it. The ```__init__``` method is used to create instances of the class. However you don't call it directly, but rather through the name of the class as follows."
   ]
  },
  {
   "cell_type": "code",
   "execution_count": 2,
   "metadata": {
    "collapsed": false
   },
   "outputs": [],
   "source": [
    "magpie = BirdCallGenerator(\"Magpie\")\n",
    "heron = BirdCallGenerator(\"Heron\", \"dawn\")"
   ]
  },
  {
   "cell_type": "markdown",
   "metadata": {},
   "source": [
    "**magpie** and **heron** are instances of the class."
   ]
  },
  {
   "cell_type": "code",
   "execution_count": 3,
   "metadata": {
    "collapsed": false
   },
   "outputs": [
    {
     "name": "stdout",
     "output_type": "stream",
     "text": [
      "<__main__.BirdCallGenerator instance at 0x2863ea8>\n",
      "<__main__.BirdCallGenerator instance at 0x2862248>\n"
     ]
    }
   ],
   "source": [
    "print(magpie)\n",
    "print(heron)"
   ]
  },
  {
   "cell_type": "markdown",
   "metadata": {},
   "source": [
    "Calling the **tweet** method works as follows"
   ]
  },
  {
   "cell_type": "code",
   "execution_count": 4,
   "metadata": {
    "collapsed": false
   },
   "outputs": [
    {
     "data": {
      "text/plain": [
       "'The Magpie went tweet at noon'"
      ]
     },
     "execution_count": 4,
     "metadata": {},
     "output_type": "execute_result"
    }
   ],
   "source": [
    "magpie.tweet()"
   ]
  },
  {
   "cell_type": "markdown",
   "metadata": {},
   "source": [
    "Notice how **tweet** doesn't take an argument even though it is defined as\n",
    "```\n",
    "def tweet(self)\n",
    "```\n",
    "In fact notice how the first parameter of every method in the class starts with **self**. This is an **implicit** paramenter that represent the instance of the class itself. Notice how in the **tweet** method, the **custom** method is called using **self.custom**.\n",
    "\n",
    "Accessing the **fields** ```bird_name``` and ```time_of_day``` works much the same way. Accessing them outside of the class works as follows:"
   ]
  },
  {
   "cell_type": "code",
   "execution_count": 5,
   "metadata": {
    "collapsed": false
   },
   "outputs": [
    {
     "data": {
      "text/plain": [
       "'Magpie'"
      ]
     },
     "execution_count": 5,
     "metadata": {},
     "output_type": "execute_result"
    }
   ],
   "source": [
    "magpie.bird_name"
   ]
  },
  {
   "cell_type": "markdown",
   "metadata": {},
   "source": [
    "Each class encapsulates the information it was given when constructed. Look at how the *tweet* of the heron is different. "
   ]
  },
  {
   "cell_type": "code",
   "execution_count": 6,
   "metadata": {
    "collapsed": false
   },
   "outputs": [
    {
     "data": {
      "text/plain": [
       "'The Heron went tweet at dawn'"
      ]
     },
     "execution_count": 6,
     "metadata": {},
     "output_type": "execute_result"
    }
   ],
   "source": [
    "heron.tweet()"
   ]
  }
 ],
 "metadata": {
  "kernelspec": {
   "display_name": "Python 2",
   "language": "python",
   "name": "python2"
  },
  "language_info": {
   "codemirror_mode": {
    "name": "ipython",
    "version": 2
   },
   "file_extension": ".py",
   "mimetype": "text/x-python",
   "name": "python",
   "nbconvert_exporter": "python",
   "pygments_lexer": "ipython2",
   "version": "2.7.3"
  }
 },
 "nbformat": 4,
 "nbformat_minor": 0
}
