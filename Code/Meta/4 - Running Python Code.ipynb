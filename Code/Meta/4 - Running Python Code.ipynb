{
 "cells": [
  {
   "cell_type": "markdown",
   "metadata": {},
   "source": [
    "# Running Python Code\n",
    "\n",
    "Python scripts and code are run/executed through terminals. The \n",
    "general form of this looks like:\n",
    "```\n",
    "python <path to script>\n",
    "```\n",
    "So to run the `hello_world.py` script included in this project you would use\n",
    "```\n",
    "python hello_world.py\n",
    "```\n",
    "from a terminal in the root directory of the project."
   ]
  }
 ],
 "metadata": {
  "kernelspec": {
   "display_name": "Python 2",
   "language": "python",
   "name": "python2"
  },
  "language_info": {
   "codemirror_mode": {
    "name": "ipython",
    "version": 2
   },
   "file_extension": ".py",
   "mimetype": "text/x-python",
   "name": "python",
   "nbconvert_exporter": "python",
   "pygments_lexer": "ipython2",
   "version": "2.7.3"
  }
 },
 "nbformat": 4,
 "nbformat_minor": 1
}
