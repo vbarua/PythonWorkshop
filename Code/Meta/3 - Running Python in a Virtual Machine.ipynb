{
 "cells": [
  {
   "cell_type": "markdown",
   "metadata": {},
   "source": [
    "# Running Python in a Virtual Machine \n",
    "This section covers setting up a virtual machine (a computer that is simulated inside of another computer) running Ubuntu on which we will then install Python. \n",
    "\n",
    "If you're not familiar with terminals I would recommend looking at the [Terminals and You](http://nbviewer.jupyter.org/github/vbarua/PythonWorkshop/blob/master/Code/Meta/1%20-%20Terminals%20and%20You.ipynb) section for a quick primer."
   ]
  },
  {
   "cell_type": "markdown",
   "metadata": {},
   "source": [
    "## Background\n",
    "[Vagrant](https://www.vagrantup.com/) is a tool for managing virtual machines (VMs). A VM is a computer that is being simulated inside of another computer. When used in conjuction with [Virtual Box](https://www.virtualbox.org/) (a piece of software that handles the simulation of the computer) it can be used to set up Python in a relatively painless manner."
   ]
  },
  {
   "cell_type": "markdown",
   "metadata": {},
   "source": [
    "## Installation\n",
    "Begin by installing [Vagrant](https://www.vagrantup.com/downloads.html) and [Virtual Box](https://www.virtualbox.org/wiki/Downloads)."
   ]
  },
  {
   "cell_type": "markdown",
   "metadata": {},
   "source": [
    "## Setup\n",
    "Download this project from [Github](https://github.com/vbarua/PythonWorkshop) and navigate to the root directory (see **Terminals and You** for details on using terminals) of the project. The root directory contains a file named *Vagrantfile* that is used to tell Vagrant what kind of VM we want. Running the command\n",
    "```\n",
    "vagrant up\n",
    "```\n",
    "will create an Ubuntu VM and run the *provision.sh* script which will setup Python and the libraries you will need. Note that this process may take a long time and requires an internet connection."
   ]
  },
  {
   "cell_type": "markdown",
   "metadata": {},
   "source": [
    "## Usage\n",
    "Once the previous command completes you will be able to ssh into the VM using the command\n",
    "```\n",
    "vagrant ssh\n",
    "```\n",
    "Note that this command needs to be run from the same directory as the Vagrantfile.\n",
    "\n",
    "From within the VM navigate to the ```/vagrant``` directory using\n",
    "```\n",
    "cd /vagrant\n",
    "```\n",
    "You will notice that this directory has the same directories and files as the one containing the Vagrantfile on the host machine (the machine running the VM). Edits made to files on the host machine will automatically be synced with those in the VM. This means that we can edit code in the host machine and run it in the VM."
   ]
  },
  {
   "cell_type": "markdown",
   "metadata": {},
   "source": [
    "## Jupyter Notebooks\n",
    "Vagrant can also forward ports on your host machine to the VM. This makes it possible to run a Jupyter notebook server within the VM and access it on the host machine. To start the Jupyter server use\n",
    "```\n",
    "jupyter notebook --no-browser --ip=0.0.0.0\n",
    "```\n",
    "and the go to \n",
    "```\n",
    "localhost:8888\n",
    "```\n",
    "in a browser."
   ]
  },
  {
   "cell_type": "markdown",
   "metadata": {},
   "source": [
    "## Stopping the VM\n",
    "When you are done using the virtual machine it is a good idea to stop it to avoid it eating up resources on the host. The command\n",
    "```\n",
    "vagrant halt\n",
    "```\n",
    "can be used for this. To use it in the future, run\n",
    "```\n",
    "vagrant up\n",
    "```\n",
    "again. Note that this will take less time than the first run as the machine will already be set up."
   ]
  }
 ],
 "metadata": {
  "kernelspec": {
   "display_name": "Python 2",
   "language": "python",
   "name": "python2"
  },
  "language_info": {
   "codemirror_mode": {
    "name": "ipython",
    "version": 2
   },
   "file_extension": ".py",
   "mimetype": "text/x-python",
   "name": "python",
   "nbconvert_exporter": "python",
   "pygments_lexer": "ipython2",
   "version": "2.7.3"
  }
 },
 "nbformat": 4,
 "nbformat_minor": 0
}
