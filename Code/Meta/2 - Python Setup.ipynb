{
 "cells": [
  {
   "cell_type": "markdown",
   "metadata": {},
   "source": [
    "# Python Setup\n",
    "There are lots and lots of different ways of setting up Python and the numerical libraries you'll need on you're computer."
   ]
  },
  {
   "cell_type": "markdown",
   "metadata": {},
   "source": [
    "## Recommended \n",
    "**This is the only method that I will/can provide support for.**\n",
    "\n",
    "It's relatively straightforward to get Python and the tools you'll need installed if you're running a Linux distribution like Ubuntu. In fact, for some of you it may be easier to run an Ubuntu virtual machine (a computer being simulated by a computer) than try to get everything working on your normal machine.\n",
    "\n",
    "The main disadvantage of this method is the performance penalty that comes from running your code inside a computer inside another computer. The main advantage of this method is that it lets people with different computers run Python as if they had the same computer. This is an advantage because it means I can test it once and it should work for everyone.\n",
    "\n",
    "The details of how to to do this are in the section named **Vagrant Setup**. That section will have you install two pieces of software, after which a single command will install Python."
   ]
  },
  {
   "cell_type": "markdown",
   "metadata": {},
   "source": [
    "## Easy Alternative\n",
    "** Unsupported **\n",
    "\n",
    "Another way of getting Python and the libraries you will need is to use one of the pre-built distributions available at [Scientific Python](http://www.scipy.org/install.html#scientific-python-distributions). The **Anaconda Distribution** is pretty solid.\n",
    "\n",
    "Using a pre-built distribution has the advantage of being easy to install. However it's harder to add libraries that it doesn't include."
   ]
  },
  {
   "cell_type": "markdown",
   "metadata": {},
   "source": [
    "## Hard Alternative\n",
    "\n",
    "** Unsupported **\n",
    "\n",
    "The hard method will have you installing a C compiler, **pip** (a Python package manager) and **virtualenv** (an environment management tool). It may be difficult if you're not familiar with navigating the command line. Follow the instructions at http://newcoder.io/begin/setup-your-machine/."
   ]
  }
 ],
 "metadata": {
  "kernelspec": {
   "display_name": "Python 2",
   "language": "python",
   "name": "python2"
  },
  "language_info": {
   "codemirror_mode": {
    "name": "ipython",
    "version": 2
   },
   "file_extension": ".py",
   "mimetype": "text/x-python",
   "name": "python",
   "nbconvert_exporter": "python",
   "pygments_lexer": "ipython2",
   "version": "2.7.3"
  }
 },
 "nbformat": 4,
 "nbformat_minor": 0
}
