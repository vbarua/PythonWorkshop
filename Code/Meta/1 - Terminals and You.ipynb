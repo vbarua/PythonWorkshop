{
 "cells": [
  {
   "cell_type": "markdown",
   "metadata": {},
   "source": [
    "# Terminals and You\n",
    "## Terminals\n",
    "Terminals are text based methods of interacting with a computer. They can be used to interact with your local machine or a machine over the network. They are how we'll run Python. Let's dive in."
   ]
  },
  {
   "cell_type": "markdown",
   "metadata": {},
   "source": [
    "### Commands\n",
    "There are many different terminal commands. The usual base format for a command is: \n",
    "```\n",
    "<command> -<flags/options>\n",
    "```\n",
    "Possibly the most useful command is **man** which can be used to open manuals for commands. For example:\n",
    "```\n",
    "man man\n",
    "```\n",
    "opens up the **man** manual. Throughout this section we'll explore various commands. "
   ]
  },
  {
   "cell_type": "markdown",
   "metadata": {},
   "source": [
    "### Navigating and Understanding Files\n",
    "At some point you've probably navigated through your computers files and folders/directories using a file explorer. You can navigate through directories much the same way in a terminal. These are the commands you'll need for navigation:\n",
    "* **pwd** : Prints the current working directory, which is the directory the terminal is currently \"in\".\n",
    "* **ls**  : Lists the contents (files and directories) of the current directory.\n",
    "* **cd**  : Used to change the current directory.\n",
    "\n",
    "Let's look at some examples of using these commands."
   ]
  },
  {
   "cell_type": "markdown",
   "metadata": {},
   "source": [
    "#### pwd\n",
    "\n",
    "```\n",
    ">> pwd\n",
    "/var\n",
    "```\n",
    "The current working directory is **var**."
   ]
  },
  {
   "cell_type": "markdown",
   "metadata": {},
   "source": [
    "```\n",
    ">> pwd\n",
    "/var/mail\n",
    "```\n",
    "The current working directory is **mail**, within the **var** directory. Forward slashes ```/``` are used to indicate different directories."
   ]
  },
  {
   "cell_type": "markdown",
   "metadata": {},
   "source": [
    "#### cd\n",
    "```\n",
    ">> cd Dropbox\n",
    "```\n",
    "Move to the **Dropbox** directory."
   ]
  },
  {
   "cell_type": "markdown",
   "metadata": {},
   "source": [
    "```\n",
    ">> cd Documents/Notes\n",
    "```\n",
    "Move to the **Notes** directory within the **Documents** directory."
   ]
  },
  {
   "cell_type": "markdown",
   "metadata": {},
   "source": [
    "```\n",
    ">> cd /\n",
    "```\n",
    "Move to the **root** directory. This is a special directory which all other directories are under, either directly or indirectly."
   ]
  },
  {
   "cell_type": "markdown",
   "metadata": {},
   "source": [
    "```\n",
    ">> cd ~/\n",
    "```\n",
    "Move into the current users User directory."
   ]
  },
  {
   "cell_type": "markdown",
   "metadata": {},
   "source": [
    "```\n",
    ">> cd ..\n",
    "```\n",
    "Move back one directory."
   ]
  },
  {
   "cell_type": "markdown",
   "metadata": {},
   "source": [
    "#### ls\n",
    "```\n",
    ">> ls\n",
    "emails  Notes.txt run \n",
    "```\n",
    "The current directory has three items in it:\n",
    "* ```emails```\n",
    "* ```Notes.txt```\n",
    "* ```run```"
   ]
  },
  {
   "cell_type": "markdown",
   "metadata": {},
   "source": [
    "#### ls -l\n",
    "\n",
    "```\n",
    ">> ls -l\n",
    "drw-rwxr-x  2 root mail  4096 Sep 14  2012 emails\n",
    "-rw-r--r--  1 root root    78 Sep 14 00:05 Notes.txt\n",
    "lrwxrwxrwx  1 root root     4 Sep 14  2012 run -> /run\n",
    "```\n",
    "Running ```ls``` with the ```-l``` option gives much more information about the contents of the current directory. Let's interpret the first entry going from left to right in order:\n",
    "```\n",
    "drw-rwxr-x  2 root mail  4096 Sep 14  2012 emails\n",
    "```\n",
    "* The first character **d** in ```drw-rwxr-x``` indicates that **emails** is a directory. The remaining **rw-rwxr-x** are the permissions on the directory (more on this later).\n",
    "\n",
    "* **2** indicates the number of hard links to the **emails** directory (not that important for our purposes).\n",
    "* **root** is the user that owns the directory (more on this later).\n",
    "* **mail** is the group the directory belongs to (more on this later). \n",
    "* **4096** is the size of the directory *link* in bytes.\n",
    "\n",
    "* **Sep 14  2012** is the last time the directory was modified.\n",
    "\n",
    "* **emails** is the directory name.\n",
    "\n"
   ]
  },
  {
   "cell_type": "markdown",
   "metadata": {},
   "source": [
    "Looking at\n",
    "```\n",
    "-rw-r--r-- 1 root root 78 Sep 14 00:05 Notes.txt\n",
    "```\n",
    "The initial **-** where there was a **d** before indicates that **Notes.txt** is a file. The permissions on the file are also different."
   ]
  },
  {
   "cell_type": "markdown",
   "metadata": {},
   "source": [
    "Looking at \n",
    "```\n",
    "lrwxrwxrwx 1 root root 4 Sep 14 2012 run -> /run\n",
    "```\n",
    "The initial **l** where there was a **d** before indicates that the entry is a *link*. In this case, trying to **cd** into **run** would take us to **/run**."
   ]
  },
  {
   "cell_type": "markdown",
   "metadata": {},
   "source": [
    "### Users, Groups and Permissions\n",
    "A **user** corresponds to a user of a computer. For example, the username you use to log into your machine is an example of a user. Computers can have many user identities available.\n",
    "\n",
    "Users can belong to many different **groups**, which are used to give them permission to perform operations on files and directories.\n",
    "\n",
    "When looking at permissions there are three commons letters to be familiar with:\n",
    "* **r**: read (needed to read the file).\n",
    "* **w**: write (needed to write to the file). \n",
    "* **x**: execute (needed to run the file as as script).\n",
    "\n",
    "\n",
    "The set of permissions\n",
    "```\n",
    "rw-rwxr-x\n",
    "```\n",
    "is easier to think about if you chunk it into sets of three.\n",
    "```\n",
    "Owner | Group | Everyone\n",
    "rwx   | r-x   | r--\n",
    "```\n",
    "Each chunk indicates what different users are allowed to do with the file. In this case\n",
    "* The owner user can read, write and execute the file. \n",
    "* Users belonging to the group can read and execute the file.\n",
    "* Everyone else on the machine can only read the file.\n",
    "\n",
    "The ```-``` symbol is used to denote permissions that are not available."
   ]
  },
  {
   "cell_type": "markdown",
   "metadata": {},
   "source": [
    "### Changing Permissions\n",
    "Sometimes you want to change the permissions on a file, either to restrict access to the file or be able to run the file as a script. This task can be accomplished using the **chmod** command.\n",
    "* ```chmod u+x <file>```: Allow the owner to execute the file.\n",
    "* ```chmod g+w <file>```: Allow group members to write to the file.\n",
    "* ```chmod g-x <file>```: Remove execute permission for group members.\n",
    "\n",
    "When using **chmod** you may sometimes have to prepend **sudo** in front of it to gain the permission needed to modify the file permissions."
   ]
  },
  {
   "cell_type": "markdown",
   "metadata": {},
   "source": [
    "### Sudo\n",
    "The **sudo** command temporarily lets you act like the **root** user. **root** usually has very broad access to the machine and in general its better to avoid using **sudo** if you can."
   ]
  },
  {
   "cell_type": "markdown",
   "metadata": {},
   "source": [
    "### Path\n",
    "The **echo** command can be used to display text.\n",
    "```\n",
    ">> echo hello\n",
    "hello\n",
    "```\n",
    "It useful for viewing the values of variables in the terminal. One of these variables is the **PATH**. Variables can be echoed out by appending a **\\$** in front of them.\n",
    "```\n",
    ">> echo $PATH\n",
    "/usr/local/sbin:/usr/local/bin:/usr/sbin:/usr/bin\n",
    "```"
   ]
  },
  {
   "cell_type": "markdown",
   "metadata": {},
   "source": [
    "The **PATH** variable contains a list of directories in which the terminal will look for commands. Directories are separated by ```:```. The directories in the above **PATH** are:\n",
    "* ```/usr/local/sbin```\n",
    "* ```/usr/local/bin```\n",
    "* ```/usr/sbin```\n",
    "* ```/usr/bin```\n",
    "\n",
    "When a command is entered, the terminal will look in each of these directories in order to find the corresponding program to execute. The **which** command can be used to determine where a command is being pulled from. For example\n",
    "```\n",
    ">> which python\n",
    "/usr/bin/python\n",
    "```\n",
    "shows us that **python** is being pulled from the **/usr/bin** directory."
   ]
  },
  {
   "cell_type": "markdown",
   "metadata": {},
   "source": [
    "You can add directories to **PATH** by running:\n",
    "```\n",
    "export PATH=$PATH:<NEW PATH>\n",
    "```"
   ]
  },
  {
   "cell_type": "markdown",
   "metadata": {},
   "source": [
    "### SSH\n",
    "The **ssh** command is used to log into remote machines. You'll probably need to use it at some point to log into the Physics Departments machines. This will look like\n",
    "```\n",
    "ssh <user>@ssh.phas.ubc.ca\n",
    "```\n",
    "The general format is\n",
    "```\n",
    "ssh <user>@<address>\n",
    "```"
   ]
  },
  {
   "cell_type": "markdown",
   "metadata": {},
   "source": [
    "### CP and SCP \n",
    "The **cp** command is used to copy files.\n",
    "```\n",
    "cp <source> <target>\n",
    "```\n",
    "This will copy the source file to the target file. **scp** is a version of this that can be used to copy files over a network to a remote machine, say from your computer onto the department server\n",
    "```\n",
    "scp <source> <user>@ssh.phas.ubc.ca:<path to target>\n",
    "```\n",
    "or from the department server to your computer\n",
    "```\n",
    "scp <user>@ssh.phas.ubc.ca:<path to source> <target>\n",
    "```"
   ]
  }
 ],
 "metadata": {
  "kernelspec": {
   "display_name": "Python 2",
   "language": "python",
   "name": "python2"
  },
  "language_info": {
   "codemirror_mode": {
    "name": "ipython",
    "version": 2
   },
   "file_extension": ".py",
   "mimetype": "text/x-python",
   "name": "python",
   "nbconvert_exporter": "python",
   "pygments_lexer": "ipython2",
   "version": "2.7.3"
  }
 },
 "nbformat": 4,
 "nbformat_minor": 0
}
