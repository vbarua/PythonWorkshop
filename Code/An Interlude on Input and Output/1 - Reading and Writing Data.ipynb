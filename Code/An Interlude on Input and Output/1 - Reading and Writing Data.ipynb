{
 "cells": [
  {
   "cell_type": "markdown",
   "metadata": {},
   "source": [
    "# Reading and Writing Data\n",
    "## Basic I/O\n",
    "Reading and writing to files is referred to as I/O (Input/Output) in some circles.\n",
    "\n",
    "In Python the **open** function is used to open a file for reading and writing. The **write** function is used to write strings to the file. Finally the **close** function is used to close files."
   ]
  },
  {
   "cell_type": "code",
   "execution_count": 1,
   "metadata": {
    "collapsed": true
   },
   "outputs": [],
   "source": [
    "f = open(\"basicOutput.txt\", 'w') # Open/create the basicOutput.txt file for writing ('w')\n",
    "f.write(\"Hello World\\n\") # Write the string to the basicOutput.txt file.\n",
    "f.write(\"Goodbye World\\n\")\n",
    "f.close() # Close the string to the file."
   ]
  },
  {
   "cell_type": "markdown",
   "metadata": {},
   "source": [
    "It's a good idea to **close** every file you open. It is recommended that you deal with files using the **with** keyword which ensures that the file is closed after use."
   ]
  },
  {
   "cell_type": "code",
   "execution_count": 2,
   "metadata": {
    "collapsed": true
   },
   "outputs": [],
   "source": [
    "with open('withFile.txt', 'w') as f:\n",
    "    f.write(\"A better way of opening a file\\n\")"
   ]
  },
  {
   "cell_type": "markdown",
   "metadata": {},
   "source": [
    "Opening a file with ```'w'``` will overwrite the existing contents of a file. If you want to append more information to the file use ```'a'```. "
   ]
  },
  {
   "cell_type": "code",
   "execution_count": 3,
   "metadata": {
    "collapsed": true
   },
   "outputs": [],
   "source": [
    "with open(\"basicOutput.txt\", 'a') as f:\n",
    "    f.write(\"Are you... \")\n",
    "    f.write(\"still here?\\n\")"
   ]
  },
  {
   "cell_type": "markdown",
   "metadata": {},
   "source": [
    "You can read the contents of a file as a single string using the **read** function."
   ]
  },
  {
   "cell_type": "code",
   "execution_count": 4,
   "metadata": {
    "collapsed": false
   },
   "outputs": [
    {
     "name": "stdout",
     "output_type": "stream",
     "text": [
      "Hello World\n",
      "Goodbye World\n",
      "Are you... still here?\n",
      "\n"
     ]
    }
   ],
   "source": [
    "with open('basicOutput.txt', 'r') as f:  # Use 'r' for reading.\n",
    "    contents = f.read()\n",
    "    print(contents)"
   ]
  },
  {
   "cell_type": "markdown",
   "metadata": {},
   "source": [
    "Notice how ```Are you... still here?``` is all on a single line even though it was written using two separate calls to **write**. This happened because the ```\"Are you... \"``` string didn't terminate in ```\\n``` (known as the newline character).\n",
    "\n",
    "You can also read each line of a file into a list directly."
   ]
  },
  {
   "cell_type": "code",
   "execution_count": 5,
   "metadata": {
    "collapsed": false
   },
   "outputs": [
    {
     "name": "stdout",
     "output_type": "stream",
     "text": [
      "['Hello World\\n', 'Goodbye World\\n', 'Are you... still here?\\n']\n"
     ]
    }
   ],
   "source": [
    "with open('basicOutput.txt', 'r') as f:\n",
    "    lines = f.readlines()\n",
    "    print(lines)"
   ]
  },
  {
   "cell_type": "markdown",
   "metadata": {},
   "source": [
    "or read them in a for loop"
   ]
  },
  {
   "cell_type": "code",
   "execution_count": 6,
   "metadata": {
    "collapsed": false
   },
   "outputs": [
    {
     "name": "stdout",
     "output_type": "stream",
     "text": [
      "12\n",
      "14\n",
      "23\n"
     ]
    }
   ],
   "source": [
    "with open('basicOutput.txt', 'r') as f:\n",
    "    for line in f:\n",
    "        print(len(line))"
   ]
  },
  {
   "cell_type": "markdown",
   "metadata": {},
   "source": [
    "This last method is useful when dealing with very large files. In such cases reading the whole file into Python may be very slow."
   ]
  },
  {
   "cell_type": "markdown",
   "metadata": {},
   "source": [
    "## Comma Separate Values (CSV)\n",
    "CSV files are a very basic way of of storing data. For example the following mock file has two columns, one for *Time* and another for *Temperature*. Each row represents an entry, with commas used to separate values."
   ]
  },
  {
   "cell_type": "markdown",
   "metadata": {},
   "source": [
    "```\n",
    "Time (s), Temperature (K)\n",
    "0,300\n",
    "10,314\n",
    "20,323 \n",
    "30,331\n",
    "```"
   ]
  },
  {
   "cell_type": "markdown",
   "metadata": {},
   "source": [
    "Python has a [csv](https://docs.python.org/2/library/csv.html) library that can be used to read and write csv files. It's a very general purpose library and works in many different scenarios. For our purposes though it's more straightforward to use two Numpy functions **np.savetxt** and **np.readtxt**."
   ]
  },
  {
   "cell_type": "code",
   "execution_count": 7,
   "metadata": {
    "collapsed": false
   },
   "outputs": [
    {
     "data": {
      "text/plain": [
       "[(0, 300), (10, 314), (20, 323), (30, 331)]"
      ]
     },
     "execution_count": 7,
     "metadata": {},
     "output_type": "execute_result"
    }
   ],
   "source": [
    "import numpy as np\n",
    "\n",
    "time = [0, 10, 20, 30]\n",
    "temperature = [300, 314, 323, 331]\n",
    "zippedData = zip(time, temperature)\n",
    "\n",
    "np.savetxt('temperatureData.csv', zippedData,\n",
    "           delimiter=',', header=\"Time (s), Temperature (K)\")\n",
    "zippedData"
   ]
  },
  {
   "cell_type": "markdown",
   "metadata": {},
   "source": [
    "The above writes the time and temperature data to a file, along with a header describing the data. We can verify this by opening and reading the file"
   ]
  },
  {
   "cell_type": "code",
   "execution_count": 8,
   "metadata": {
    "collapsed": false
   },
   "outputs": [
    {
     "name": "stdout",
     "output_type": "stream",
     "text": [
      "# Time (s), Temperature (K)\n",
      "0.000000000000000000e+00,3.000000000000000000e+02\n",
      "1.000000000000000000e+01,3.140000000000000000e+02\n",
      "2.000000000000000000e+01,3.230000000000000000e+02\n",
      "3.000000000000000000e+01,3.310000000000000000e+02\n",
      "\n"
     ]
    }
   ],
   "source": [
    "with open(\"temperatureData.csv\", 'r') as f:\n",
    "    print(f.read())"
   ]
  },
  {
   "cell_type": "markdown",
   "metadata": {},
   "source": [
    "The **np.loadtxt** function can be used to read in csv files"
   ]
  },
  {
   "cell_type": "code",
   "execution_count": 9,
   "metadata": {
    "collapsed": false
   },
   "outputs": [
    {
     "data": {
      "text/plain": [
       "array([[   0.,  300.],\n",
       "       [  10.,  314.],\n",
       "       [  20.,  323.],\n",
       "       [  30.,  331.]])"
      ]
     },
     "execution_count": 9,
     "metadata": {},
     "output_type": "execute_result"
    }
   ],
   "source": [
    "data = np.loadtxt(\"temperatureData.csv\", delimiter=\",\", skiprows=1)\n",
    "data"
   ]
  },
  {
   "cell_type": "markdown",
   "metadata": {},
   "source": [
    "The skiprows keyword tells **loadtxt** to skip the first line (which contains the header). It's also possible to read the columns in directly to variables."
   ]
  },
  {
   "cell_type": "code",
   "execution_count": 10,
   "metadata": {
    "collapsed": false
   },
   "outputs": [
    {
     "data": {
      "text/plain": [
       "(array([  0.,  10.,  20.,  30.]), array([ 300.,  314.,  323.,  331.]))"
      ]
     },
     "execution_count": 10,
     "metadata": {},
     "output_type": "execute_result"
    }
   ],
   "source": [
    "timeFromFile, temperatureFromFile = np.loadtxt(\"temperatureData.csv\", delimiter=\",\", skiprows=1,\n",
    "                                               unpack=True)\n",
    "timeFromFile, temperatureFromFile"
   ]
  },
  {
   "cell_type": "markdown",
   "metadata": {},
   "source": [
    "## Delimiters\n",
    "The CSV format doesn't actually have a standard associated with it. This means that some csv files you encounter won't use commas as a separator for columns. The delimiter keyword in both the **np.savetx** and **np.loadtxt** can be used to set the separator used. Common separators include:\n",
    "* commas (```','```)\n",
    "* spaces (```' '```)\n",
    "* tabs (```'\\t'```) "
   ]
  }
 ],
 "metadata": {
  "kernelspec": {
   "display_name": "Python 2",
   "language": "python",
   "name": "python2"
  },
  "language_info": {
   "codemirror_mode": {
    "name": "ipython",
    "version": 2
   },
   "file_extension": ".py",
   "mimetype": "text/x-python",
   "name": "python",
   "nbconvert_exporter": "python",
   "pygments_lexer": "ipython2",
   "version": "2.7.3"
  }
 },
 "nbformat": 4,
 "nbformat_minor": 0
}
